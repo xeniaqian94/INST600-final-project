{
 "cells": [
  {
   "cell_type": "code",
   "execution_count": 7,
   "metadata": {},
   "outputs": [
    {
     "name": "stdout",
     "output_type": "stream",
     "text": [
      "               orcid_id  phd_year country_2018  earliest_year  \\\n",
      "0  /0000-0002-9418-3797       NaN          NaN            NaN   \n",
      "1  /0000-0001-6920-0797       NaN           BR         2013.0   \n",
      "2  /0000-0003-1280-4797       NaN           ID         2001.0   \n",
      "3  /0000-0002-7543-3797       NaN           CN         1979.0   \n",
      "4  /0000-0002-0971-9797       NaN           US         2014.0   \n",
      "\n",
      "  earliest_country  has_phd phd_country  \n",
      "0              NaN     True          EG  \n",
      "1               BR    False         NaN  \n",
      "2               ID    False         NaN  \n",
      "3               CN    False         NaN  \n",
      "4               US    False         NaN  \n",
      "   Unnamed: 0              orcid_id country  \\\n",
      "0           0  /0000-0002-9418-3797      EG   \n",
      "1           1  /0000-0002-9418-3797      EG   \n",
      "2           2  /0000-0001-6920-0797      BR   \n",
      "3           3  /0000-0001-6920-0797      BR   \n",
      "4           4  /0000-0001-6920-0797      BR   \n",
      "\n",
      "                           organization_name Ringgold_id  start_year  \\\n",
      "0                       Ain Shams University       68791         NaN   \n",
      "1                   National Research Centre       68787         NaN   \n",
      "2  Universidade Federal de Pernambuco - UFPE         NaN      2017.0   \n",
      "3  Universidade Federal de Pernambuco - UFPE         NaN      2013.0   \n",
      "4  Universidade Federal de Pernambuco - UFPE      133639      2017.0   \n",
      "\n",
      "   end_year affiliation_type  \\\n",
      "0       NaN        EDUCATION   \n",
      "1       NaN       EMPLOYMENT   \n",
      "2    2018.0        EDUCATION   \n",
      "3    2017.0        EDUCATION   \n",
      "4    2018.0       EMPLOYMENT   \n",
      "\n",
      "                                    affiliation_role  is_phd  \n",
      "0                                                PhD    True  \n",
      "1                                                NaN   False  \n",
      "2                     Mestrando em Geografia - PPGEO   False  \n",
      "3                         Licenciatura em Geografia    False  \n",
      "4  REPRESENTANTE DISCENTE DO MESTRADO TURMA 2017-...   False  \n"
     ]
    }
   ],
   "source": [
    "import csv\n",
    "\n",
    "import json, os, sys\n",
    "import pandas as pd\n",
    "\n",
    "person_filename=\"../data/ORCID_migrations_2018_by_person.csv\"\n",
    "df_person=pd.read_csv(person_filename,delimiter=\"\\t\")\n",
    "print(df_person.head())\n",
    "\n",
    "\n",
    "whole_filename=\"../data/ORCID_migrations_2018.csv\"\n",
    "df=pd.read_csv(whole_filename,delimiter=\"\\t\")\n",
    "print(df.head())"
   ]
  },
  {
   "cell_type": "code",
   "execution_count": 14,
   "metadata": {},
   "outputs": [
    {
     "name": "stdout",
     "output_type": "stream",
     "text": [
      "num of unique orcid_id versus total rows 1598770 4432687\n"
     ]
    }
   ],
   "source": [
    "## Here we retrieve people with both EDUCATION AND EMPLOYMENT record, and compare the start date, \n",
    "## to answer the Q5 of \"What’s the ratio of researchers migrated to \n",
    "## another country/state once they finished their degree?\"\n",
    "## Are there people who has more than one education record or more than one employment record? \n",
    "\n",
    "## First, filter df to have people with both at least one EDUCATION AND at least one EMPLOYMENT\n",
    "unique_orcid_ids=df.orcid_id.unique()\n",
    "print(\"num of unique orcid_id versus total rows\", len(unique_orcid_ids), len(df))\n",
    "\n",
    "## Having at least two affiliations\n",
    "num_affiliations_per_person=df.groupby('orcid_id').count()\n",
    "num_affiliations_per_person=num_affiliations_per_person[num_affiliations_per_person['affiliation_role']>1]\n",
    "orcid_id_more_than_one_affiliation=num_affiliations_per_person.orcid_id.unique()\n",
    "\n",
    "\n",
    "## Then, discard people whose EDUCATION AND EMPLOYMENT are discontinued \n",
    "\n",
    "## "
   ]
  },
  {
   "cell_type": "code",
   "execution_count": 20,
   "metadata": {},
   "outputs": [
    {
     "name": "stdout",
     "output_type": "stream",
     "text": [
      "                             affiliation_type\n",
      "orcid_id                                     \n",
      "/0000-0001-5000-0031             {EMPLOYMENT}\n",
      "/0000-0001-5000-0138             {EMPLOYMENT}\n",
      "/0000-0001-5000-0170  {EDUCATION, EMPLOYMENT}\n",
      "/0000-0001-5000-0218  {EDUCATION, EMPLOYMENT}\n",
      "/0000-0001-5000-0373  {EDUCATION, EMPLOYMENT}\n",
      "...                                       ...\n",
      "/0000-0003-4999-9516  {EDUCATION, EMPLOYMENT}\n",
      "/0000-0003-4999-9655  {EDUCATION, EMPLOYMENT}\n",
      "/0000-0003-4999-9735  {EDUCATION, EMPLOYMENT}\n",
      "/0000-0003-4999-992X  {EDUCATION, EMPLOYMENT}\n",
      "/0000-0003-4999-9954  {EDUCATION, EMPLOYMENT}\n",
      "\n",
      "[1598770 rows x 1 columns]\n"
     ]
    }
   ],
   "source": [
    "## For each person, aggregate all its affiliation types\n",
    "set_affiliations_per_person=df.groupby('orcid_id')['affiliation_type'].apply(set).to_frame()\n",
    "print(set_affiliations_per_person)"
   ]
  },
  {
   "cell_type": "code",
   "execution_count": 21,
   "metadata": {},
   "outputs": [
    {
     "data": {
      "text/plain": [
       "orcid_id\n",
       "/0000-0001-5000-0031               {EMPLOYMENT}\n",
       "/0000-0001-5000-0138               {EMPLOYMENT}\n",
       "/0000-0001-5000-0170    {EDUCATION, EMPLOYMENT}\n",
       "/0000-0001-5000-0218    {EDUCATION, EMPLOYMENT}\n",
       "/0000-0001-5000-0373    {EDUCATION, EMPLOYMENT}\n",
       "                                 ...           \n",
       "/0000-0003-4999-9516    {EDUCATION, EMPLOYMENT}\n",
       "/0000-0003-4999-9655    {EDUCATION, EMPLOYMENT}\n",
       "/0000-0003-4999-9735    {EDUCATION, EMPLOYMENT}\n",
       "/0000-0003-4999-992X    {EDUCATION, EMPLOYMENT}\n",
       "/0000-0003-4999-9954    {EDUCATION, EMPLOYMENT}\n",
       "Name: affiliation_type, Length: 1598770, dtype: object"
      ]
     },
     "execution_count": 21,
     "metadata": {},
     "output_type": "execute_result"
    }
   ],
   "source": [
    "# set_affiliations_per_person.filter(lambda x: len(x[\"affiliation_type\"])>1)\n",
    "# .apply(lambda df: df[ df.B == df.B.max()])\n",
    "set_affiliations_per_person.affiliation_type"
   ]
  },
  {
   "cell_type": "code",
   "execution_count": null,
   "metadata": {},
   "outputs": [],
   "source": []
  }
 ],
 "metadata": {
  "kernelspec": {
   "display_name": "Python 3",
   "language": "python",
   "name": "python3"
  },
  "language_info": {
   "codemirror_mode": {
    "name": "ipython",
    "version": 3
   },
   "file_extension": ".py",
   "mimetype": "text/x-python",
   "name": "python",
   "nbconvert_exporter": "python",
   "pygments_lexer": "ipython3",
   "version": "3.6.5"
  }
 },
 "nbformat": 4,
 "nbformat_minor": 2
}
