{
 "cells": [
  {
   "cell_type": "code",
   "execution_count": 1,
   "metadata": {},
   "outputs": [
    {
     "name": "stdout",
     "output_type": "stream",
     "text": [
      "              orcid_id  phd_year country_2018  earliest_year earliest_country  \\\n",
      "0  0000-0002-9418-3797       NaN          NaN            NaN              NaN   \n",
      "1  0000-0001-6920-0797       NaN           BR         2013.0               BR   \n",
      "2  0000-0002-2917-0797       NaN           SE         1999.0               RU   \n",
      "3  0000-0003-1280-4797       NaN           ID         2001.0               ID   \n",
      "4  0000-0002-7543-3797       NaN           CN         1979.0               CN   \n",
      "\n",
      "   has_phd  has_master phd_country master_country  \\\n",
      "0     True       False          EG            NaN   \n",
      "1    False        True         NaN            NaN   \n",
      "2    False       False         NaN            NaN   \n",
      "3    False        True         NaN             ID   \n",
      "4    False        True         NaN             CN   \n",
      "\n",
      "                                           biography  \\\n",
      "0                                                NaN   \n",
      "1                                                NaN   \n",
      "2                                                NaN   \n",
      "3                                                NaN   \n",
      "4  Prof. D. A. Sun received his PhD in geotechnic...   \n",
      "\n",
      "                                            keywords  \n",
      "0                                                NaN  \n",
      "1                                                NaN  \n",
      "2            |finance, computer science, derivatives  \n",
      "3                                                NaN  \n",
      "4  |Unsaturated soil mechanics, Constitutive mode...  \n",
      "1627845\n"
     ]
    }
   ],
   "source": [
    "import csv\n",
    "\n",
    "import json, os, sys\n",
    "import pandas as pd\n",
    "\n",
    "whole_filename=\"../data/ORCID_migrations_2018_summary_add_fields/ORCID_migrations_2018_person.csv\"\n",
    "df=pd.read_csv(whole_filename,delimiter=\"\\t\")\n",
    "print(df.head())\n",
    "print(len(df.index))\n"
   ]
  },
  {
   "cell_type": "code",
   "execution_count": 2,
   "metadata": {},
   "outputs": [
    {
     "name": "stdout",
     "output_type": "stream",
     "text": [
      "Num of researchers\n",
      "1627845\n",
      "Num of researchers who has a biography\n",
      "123817\n",
      "Avg biography len\n"
     ]
    },
    {
     "name": "stderr",
     "output_type": "stream",
     "text": [
      "/anaconda3/lib/python3.6/site-packages/ipykernel_launcher.py:9: SettingWithCopyWarning: \n",
      "A value is trying to be set on a copy of a slice from a DataFrame.\n",
      "Try using .loc[row_indexer,col_indexer] = value instead\n",
      "\n",
      "See the caveats in the documentation: http://pandas.pydata.org/pandas-docs/stable/user_guide/indexing.html#returning-a-view-versus-a-copy\n",
      "  if __name__ == '__main__':\n"
     ]
    },
    {
     "data": {
      "text/plain": [
       "127.8225806451613"
      ]
     },
     "execution_count": 2,
     "metadata": {},
     "output_type": "execute_result"
    }
   ],
   "source": [
    "print(\"Num of researchers\")\n",
    "print(df['orcid_id'].nunique())\n",
    "\n",
    "print(\"Num of researchers who has a biography\")\n",
    "print(len(df[df.biography.notnull()].index))\n",
    "\n",
    "df_biography_not_null=df[df.biography.notnull()]\n",
    "print(\"Avg biography len\")\n",
    "df_biography_not_null['biography_word_count']= df_biography_not_null['biography'].str.split().apply(len).value_counts()\n",
    "# df_biography_not_null\n",
    "df_biography_not_null['biography_word_count'].mean()\n",
    "\n",
    "\n"
   ]
  },
  {
   "cell_type": "code",
   "execution_count": 3,
   "metadata": {},
   "outputs": [
    {
     "name": "stdout",
     "output_type": "stream",
     "text": [
      "One random biography whose length is 128\n",
      "[\"A.V. Perig, received the MS degree in Pedagogic of Physics in 2002 from the Slavyansk State Teacher Training Institute, Slavyansk, Ukraine and received the PhD degree in Material Pressure Forming in 2011 from the Donbass State Engineering Academy (DSEA), Kramatorsk, Ukraine. From 2002 to 2012, he worked as assistant lecturer at Technical Mechanics Department of DSEA and since 2013 as lecturer at Manufacturing Processes and Automation Engineering Department of DSEA. Currently, he is an associate professor in the Manufacturing Processes and Automation Engineering Department of DSEA. \\nKey qualifications\\nGeneral: Performance of lectures, practical and laboratory students’ classes, development of teaching materials and practical exercises, implementation of scientific researches in accordance with the individual plans of the scientific work and reporting of original research results to the high quality referred peer-reviewed Scopus- and Web of Science-indexed international journals.\\nSpecific experience in higher education: Performance of lectures in several disciplines for under-graduate and graduate students (“Fluid Dynamics”, “Hydraulics and Hydraulic Drive”, “Automated Hydraulic Drive”, “Hydraulic Drive for Carrying and Lifting Machines”, “Thermodynamics and Heat Engineering”, “Theoretical Mechanics”, “Strength of Materials”, “Automated Electric Drive”, “Miniature Drive Motors Design”, “System Administration”, “Theory of Algorithms”, “Basics of Programming”, “Fundamentals of Scientific Research”, certification of bachelors and masters, etc), development of teaching materials and practical exercises, under-graduate’s supervising. \\nSpecific experience in Research & Development: Perig's research interests include analytical mechanics, vibrations, control theory, numerical and physical simulation, computational fluid dynamics, rheology, thermodynamics, plasticity theory, material forming technology, and engineering education. Main research efforts and principal scientific contributions of Perig A.V. are focused into the fields of Severe Plastic Deformations of materials and material forming by pressure through the application of Equal Channel Angular Extrusion (Pressing), Equal Channel Multiple Angular Extrusion (Pressing) for induc-tion of intensive plastic deformations within worked metal, polymer, composite and powder workpieces (http://www.scopus.com/authid/detail.uri?authorId=35772967800; Scopus Author ID: 35772967800; ORCID: 0000-0002-6923-6797; Scopus-based Perig's h-index: 8).\\nAwards:\\nDuring 2011 – 2013 Perig A.V. received a personalized scholarship of Cabinet of Ministers of Ukraine for young scientists;\\nIn 2012 Perig A.V. became the winner of Donetsk regional scientific competition “The best young scientist” of Donetsk Region of Ukraine.\\nORCID: 0000-0002-6923-6797; Scopus Author ID: 35772967800.\"]\n"
     ]
    }
   ],
   "source": [
    "print(\"One random biography whose length is 128\")\n",
    "print(str(df_biography_not_null[df_biography_not_null.biography_word_count==129]['biography'].values))"
   ]
  },
  {
   "cell_type": "code",
   "execution_count": 4,
   "metadata": {},
   "outputs": [
    {
     "name": "stdout",
     "output_type": "stream",
     "text": [
      "123817\n"
     ]
    }
   ],
   "source": [
    "list_biographies=list(df_biography_not_null['biography'].values)\n",
    "print(len(list_biographies))"
   ]
  },
  {
   "cell_type": "code",
   "execution_count": 11,
   "metadata": {},
   "outputs": [
    {
     "name": "stdout",
     "output_type": "stream",
     "text": [
      "Parse each biography into sentences\n",
      "\n",
      "\n",
      "Counting number of biographies that contain pattern: \" editorial board \" 3062\n",
      "\n",
      "He is a member of the Editorial Board of international journals 'Canadian Geotechnical Journal' and  \n",
      "He participates in Editorial Board of Heliyon journal (Elsevier).\n",
      "Since June 2017, he has served as an Editorial Board Member of ‘\n",
      "He is a member of the editorial board of the following journals:\n",
      "He is also a member of editorial board of Public Management Review (Rotledge) .\n",
      "I am currently an Editorial Board Member on FITEE (2017-, Frontiers of Information Technology & Electronic Engineering) and an associate Editor on ADCAIJ (2016-, Advances in Distributed Computing and Artificial Intelligence Journal)    \n",
      "He is an associate  editorial Board of the \"American Journal of Cancer Therapy and Pharmacology\", \"the Journal  of Tumor\" and \"Medicine\"\n",
      "Member of the editorial board of the scientific journal «Science & Military»\n",
      "Dr. Georgiev serves as Associate Editor of Phytomedicine and Food and Chemical Toxicology (both published by Elsevier), and on the Editorial boards of Biotechnology Letters (Springer) and Chinese Medicine (Springer Nature), also prepared 10 Guest Editorials for major journals on biotechnology and natural products fields.\n",
      "He has been serving as a member of the editorial board of two international journals.\n",
      "===========\n",
      "\n",
      "\n",
      "\n",
      "\n",
      "Counting number of biographies that contain pattern: \" served in \" 359\n",
      "\n",
      "Have taught nursing across AA, BSN, MSN, DNP levels for 23 years as well as served in administrator roles.\n",
      "During his career he has served in many capacities, including as Regional Director and Deputy Commissioner of the Connecticut Department of Mental Health (and later with the Department and Mental Health and Addiction Services).  \n",
      "Then I served in the army one year. \n",
      "He is a naturalized U.S. citizen and served in the U.S. Army.  \n",
      "Her current research and senior thesis in Dr. Andre Fenton's lab focus on understanding the molecular mechanisms of the psychotomimetic drug, phencyclidine (PCP), which induces cognitive and electrophysiological deficits in rodents similar to those observed in schizophrenic patients.\n",
      "He served in different Scietific societies as IberoAmerican Society of Pharmacogenomics.\n",
      "She has served in the Counseling center at Trinity International University, University Medical Associates in Ohio University, and in Recovery Council at Waverly Ohio.\n",
      "She has served in various panels and forums as invited international student/professional speaker.\n",
      "He served in this capacity until December 2005. \n",
      "He has served in various AICTE approved Engineering  and Management Colleges  like MIT Academy of Engineering  Pune,  LNCT Bhopal, Medicaps Institute of Technology  \n",
      "===========\n",
      "\n",
      "\n",
      "\n",
      "\n",
      "Counting number of biographies that contain pattern: \" reviewed \" 3761\n",
      "\n",
      "Key qualifications General: Performance of lectures, practical and laboratory students’ classes, development of teaching materials and practical exercises, implementation of scientific researches in accordance with the individual plans of the scientific work and reporting of original research results to the high quality referred peer-reviewed Scopus-\n",
      "He is author or co-author of over 100 peer-reviewed journal articles, 5 chapters and 5 books.  \n",
      "Up to now, He has peer-reviewed over 100 journal papers and continues to share his study with other researchers.\n",
      "Researcher with about 200 scientific research results published in various peer reviewed scientific journals such as \"Land Degradation & Development\", \"SpringerPlus\", \"Austrian Journal of Forest Science\", \"Archives of Biological Sciences\", \"Notulae Botanicae Horti Agrobotanici Cluj-Napoca\", \"Malaysian Journal of Soil Science\", \"Allgemeine Forst Zeitschrift (AFZ) der Wald\", \"Humid Substances in Ecosystems\", \"Journal of Forestry Faculty of the Kastamonu University\", \"Acta Agriculturae Serbica\", \"Acta biologica Iugoslavica\", \"Archive of Agricultural Sciences\", \"Natura Montenegrina\", \"Medical essays\", \"Agriculture and Forestry\", \"Forestry\" etc. \n",
      "As the first author, he has published several peer-reviewed papers.\n",
      "Since 2012, she is the editor in chief of the peer-reviewed multilingual digital journal ABE-Architecture beyond Europe.\n",
      "He authored and co-authored more than 20 articles in peer-reviewed journals while also  being reviewer for several journals and delivered more than 10 lectures.\n",
      "I have published more than 20 articles related to my proficiency in several peer reviewed journals of international repute.\n",
      "Cathy's research has been published in peer-reviewed journals including Marketing Letters, International Journal of Market Research and Australiasian Journal of Marketing.\n",
      "Dr Blanc-Brude contributes regularly to academic research in connection with unlisted investing through EDHEC-Risk Institute and peer-reviewed publications, institutional papers, industry magazines and the financial press.\n",
      "===========\n",
      "\n",
      "\n"
     ]
    }
   ],
   "source": [
    "import re \n",
    "\n",
    "def count_pattern_in_biography(pattern):\n",
    "    count_pattern=0\n",
    "    for biography in list_biographies:\n",
    "        if re.search(pattern, biography.lower()):\n",
    "            count_pattern+=1\n",
    "    print(\"\\n\\nCounting number of biographies that contain pattern: \\\"\",pattern,\"\\\"\", count_pattern,)\n",
    "    return\n",
    "\n",
    "print(\"Parse each biography into sentences\")\n",
    "from spacy.tokenizer import Tokenizer\n",
    "from spacy.lang.en import English\n",
    "\n",
    "import spacy\n",
    "nlp = spacy.load(\"en_core_web_sm\")\n",
    "\n",
    "def venue_mention_sent(pattern,cutoff=10):\n",
    "    venue_mention_sent=[]\n",
    "    for biography in list_biographies:\n",
    "        if re.search(pattern, biography.lower()):\n",
    "            try:\n",
    "    #             print(biography)\n",
    "                doc = nlp(biography)\n",
    "#                 input(biography)\n",
    "                sentences = list(doc.sents)\n",
    "#                 input(sentences)\n",
    "                for sent in sentences:\n",
    "                    if re.search(pattern, sent.text.lower()):\n",
    "#                         print(sent)\n",
    "#                         input()\n",
    "                        venue_mention_sent+=[sent.text.replace(\"\\t\",\" \").replace(\"\\n\",\" \")]\n",
    "                        if len(venue_mention_sent)==cutoff:\n",
    "                            return venue_mention_sent\n",
    "        #         print(sentences)\n",
    "        #         input()\n",
    "            except:\n",
    "                continue\n",
    "    return venue_mention_sent\n",
    "\n",
    "\n",
    "patterns=[\"editorial board\",\"served in\",\"reviewed\"]\n",
    "\n",
    "for pattern in patterns:\n",
    "    count_pattern_in_biography(pattern)\n",
    "    print()\n",
    "    print(\"\\n\".join(venue_mention_sent(pattern)))\n",
    "    print(\"===========\\n\\n\")\n",
    "\n",
    "# pattern_serve=\"served in\"\n",
    "# count_pattern(pattern_serve)\n",
    "\n",
    "# pattern_reviewed=\"reviewed\"\n",
    "# count_pattern(pattern_reviewed)\n",
    "\n",
    "\n"
   ]
  }
 ],
 "metadata": {
  "kernelspec": {
   "display_name": "Python 3",
   "language": "python",
   "name": "python3"
  },
  "language_info": {
   "codemirror_mode": {
    "name": "ipython",
    "version": 3
   },
   "file_extension": ".py",
   "mimetype": "text/x-python",
   "name": "python",
   "nbconvert_exporter": "python",
   "pygments_lexer": "ipython3",
   "version": "3.6.5"
  }
 },
 "nbformat": 4,
 "nbformat_minor": 2
}
